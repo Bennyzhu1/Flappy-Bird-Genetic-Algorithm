{
 "cells": [
  {
   "cell_type": "markdown",
   "metadata": {},
   "source": [
    "# To Flap or not To Flap"
   ]
  },
  {
   "cell_type": "markdown",
   "metadata": {},
   "source": [
    "## Summary\n",
    "\n",
    "This project aims to train two distinct models, a genetic algorithm and a reinforcement learning model, to play Flappy Bird.  The goal is for both models to achieve a benchmark score of 100 points."
   ]
  },
  {
   "cell_type": "markdown",
   "metadata": {},
   "source": [
    "## Environment\n",
    "\n",
    "For our simulations, we utilize the Flappy Bird environment provided by Gymnasium, available through this link: [https://pypi.org/project/flappy-bird-gymnasium/](https://pypi.org/project/flappy-bird-gymnasium/)\n",
    "\n",
    "##### Installation:"
   ]
  },
  {
   "cell_type": "code",
   "execution_count": 2,
   "metadata": {},
   "outputs": [],
   "source": [
    "#!pip install flappy-bird-gymnasium"
   ]
  },
  {
   "cell_type": "markdown",
   "metadata": {},
   "source": [
    "##### Required Imports:"
   ]
  },
  {
   "cell_type": "code",
   "execution_count": 4,
   "metadata": {},
   "outputs": [],
   "source": [
    "import flappy_bird_gymnasium\n",
    "import gymnasium"
   ]
  },
  {
   "cell_type": "markdown",
   "metadata": {},
   "source": [
    "##### Setting up, Resetting, and Closing the Environment:"
   ]
  },
  {
   "cell_type": "code",
   "execution_count": 1,
   "metadata": {},
   "outputs": [],
   "source": [
    "# env = gymnasium.make(\"FlappyBird-v0\", render_mode=\"human\", use_lidar=True)\n",
    "# obs, _ = env.reset()\n",
    "# env.close()"
   ]
  },
  {
   "cell_type": "markdown",
   "metadata": {},
   "source": [
    "##### Actions:\n",
    "\n",
    "The action space consists of two possible actions:\n",
    "\n",
    "- 0 - Do nothing\n",
    "- 1 - Flap\n",
    "\n",
    "Sampling a random action:"
   ]
  },
  {
   "cell_type": "code",
   "execution_count": 3,
   "metadata": {},
   "outputs": [],
   "source": [
    "# action = env.action_space.sample() "
   ]
  },
  {
   "cell_type": "markdown",
   "metadata": {},
   "source": [
    "##### Stepping through the Environment:\n",
    "\n",
    "Taking a step in the environment involves performing an action and observing what happens:"
   ]
  },
  {
   "cell_type": "code",
   "execution_count": null,
   "metadata": {},
   "outputs": [],
   "source": [
    "# obs, reward, done, info = env.step(action)"
   ]
  },
  {
   "cell_type": "markdown",
   "metadata": {},
   "source": [
    "##### Rewards:\n",
    "\n",
    "The reward structure is as follows:\n",
    "\n",
    "- +0.1 - Every frame the bird stays alive\n",
    "\n",
    "- +1.0 - Successfully passing a pipe\n",
    "\n",
    "- -1.0 - Dying (colliding with a pipe or the ground)\n",
    "\n",
    "- -0.5 - Touching the top of the screen"
   ]
  },
  {
   "cell_type": "markdown",
   "metadata": {},
   "source": [
    "##### Observations (obs):\n",
    "\n",
    "The obs returned by env.step() contains information about the environment's state. There are two observation modes, controlled by the use_lidar parameter:\n",
    "\n",
    "- use_lidar=True (LiDAR Mode): Returns a vector of 180 values representing the distances measured by \"lidar\" beams emanating from the bird. These beams provide a sense of the bird's surroundings.\n",
    "\n",
    "- use_lidar=False (12-Value Vector): Returns a 12-value vector with the following information:\n",
    "\n",
    "    - Last pipe's horizontal position\n",
    "\n",
    "    - Last top pipe's vertical position\n",
    "\n",
    "    - Last bottom pipe's vertical position\n",
    "\n",
    "    - Next pipe's horizontal position\n",
    "\n",
    "    - Next top pipe's vertical position\n",
    "\n",
    "    - Next bottom pipe's vertical position\n",
    "\n",
    "    - Next next pipe's horizontal position\n",
    "\n",
    "    - Next next top pipe's vertical position\n",
    "\n",
    "    - Next next bottom pipe's vertical position\n",
    "\n",
    "    - Player's vertical position\n",
    "\n",
    "    - Player's vertical velocity\n",
    "\n",
    "    - Player's rotation"
   ]
  },
  {
   "cell_type": "markdown",
   "metadata": {},
   "source": [
    "##### Render Modes:\n",
    "\n",
    "Two render modes are available:\n",
    "\n",
    "- \"human\": Renders the game in a pop-up window.\n",
    "\n",
    "- \"rgb_array\": Returns the game frame as a NumPy array, suitable for recording videos or processing images."
   ]
  },
  {
   "cell_type": "markdown",
   "metadata": {},
   "source": [
    "#### Play the Game!"
   ]
  },
  {
   "cell_type": "code",
   "execution_count": null,
   "metadata": {},
   "outputs": [],
   "source": [
    "# !flappy_bird_gymnasium"
   ]
  },
  {
   "cell_type": "markdown",
   "metadata": {},
   "source": [
    "## Genetic Algorithm"
   ]
  },
  {
   "cell_type": "markdown",
   "metadata": {},
   "source": []
  }
 ],
 "metadata": {
  "kernelspec": {
   "display_name": "flappybird_env",
   "language": "python",
   "name": "python3"
  },
  "language_info": {
   "codemirror_mode": {
    "name": "ipython",
    "version": 3
   },
   "file_extension": ".py",
   "mimetype": "text/x-python",
   "name": "python",
   "nbconvert_exporter": "python",
   "pygments_lexer": "ipython3",
   "version": "3.11.10"
  },
  "orig_nbformat": 4
 },
 "nbformat": 4,
 "nbformat_minor": 2
}
